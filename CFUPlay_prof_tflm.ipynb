{
  "cells": [
    {
      "cell_type": "markdown",
      "metadata": {
        "id": "view-in-github",
        "colab_type": "text"
      },
      "source": [
        "<a href=\"https://colab.research.google.com/github/tcal-x/CFU-Playground/blob/first-prof-tflm/CFUPlay_prof_tflm.ipynb\" target=\"_parent\"><img src=\"https://colab.research.google.com/assets/colab-badge.svg\" alt=\"Open In Colab\"/></a>"
      ]
    },
    {
      "cell_type": "markdown",
      "source": [
        "# Profiling in CFU Playground\n",
        "\n",
        "```\n",
        "Copyright 2022 Google LLC.\n",
        "SPDX-License-Identifier: Apache-2.0\n",
        "```\n",
        "\n",
        "To run locally on your laptop, either in Renode or on a real FPGA board, see instructions below under \"To do this example on your machine directly\".   Otherwise, continue here to use the Colab!"
      ],
      "metadata": {
        "id": "ebtWuBIBfN8l"
      }
    },
    {
      "cell_type": "markdown",
      "metadata": {
        "id": "h9O8XajEPYZg"
      },
      "source": [
        "## Clone CFU-Playground"
      ]
    },
    {
      "cell_type": "code",
      "execution_count": 1,
      "metadata": {
        "id": "qGnilGRhO35o",
        "colab": {
          "base_uri": "https://localhost:8080/"
        },
        "outputId": "a62e4156-613d-46e5-f7d4-45984cdaeb52"
      },
      "outputs": [
        {
          "output_type": "stream",
          "name": "stdout",
          "text": [
            "Cloning into 'CFU-Playground'...\n",
            "remote: Enumerating objects: 14128, done.\u001b[K\n",
            "remote: Counting objects: 100% (845/845), done.\u001b[K\n",
            "remote: Compressing objects: 100% (416/416), done.\u001b[K\n",
            "remote: Total 14128 (delta 422), reused 674 (delta 347), pack-reused 13283\u001b[K\n",
            "Receiving objects: 100% (14128/14128), 26.49 MiB | 16.13 MiB/s, done.\n",
            "Resolving deltas: 100% (8868/8868), done.\n",
            "/content/CFU-Playground\n",
            "Branch 'first-prof-tflm' set up to track remote branch 'first-prof-tflm' from 'origin'.\n",
            "Switched to a new branch 'first-prof-tflm'\n",
            "* \u001b[32mfirst-prof-tflm\u001b[m\n",
            "  main\u001b[m\n",
            "On branch first-prof-tflm\n",
            "Your branch is up to date with 'origin/first-prof-tflm'.\n",
            "\n",
            "nothing to commit, working tree clean\n"
          ]
        }
      ],
      "source": [
        "!git clone https://github.com/google/CFU-Playground.git\n",
        "%cd CFU-Playground\n",
        "!git checkout first-prof-tflm\n",
        "!git branch\n",
        "!git status"
      ]
    },
    {
      "cell_type": "markdown",
      "metadata": {
        "id": "3RGdTa3WYrNo"
      },
      "source": [
        "## Setup\n",
        "\n",
        "Now do the usual setup including getting the submodules.\n"
      ]
    },
    {
      "cell_type": "code",
      "execution_count": null,
      "metadata": {
        "id": "IxVLE50nP4B1"
      },
      "outputs": [],
      "source": [
        "!./scripts/setup -ci"
      ]
    },
    {
      "cell_type": "markdown",
      "metadata": {
        "id": "e7unlPY7PXGS"
      },
      "source": [
        "## Get Tools\n",
        "\n",
        "Install a Conda environment containing additional necessary tools."
      ]
    },
    {
      "cell_type": "code",
      "execution_count": null,
      "metadata": {
        "id": "7CD1odYtQ8Ja"
      },
      "outputs": [],
      "source": [
        "%cd /content/CFU-Playground\n",
        "!rm -rf env/\n",
        "!make env"
      ]
    },
    {
      "cell_type": "markdown",
      "metadata": {
        "id": "HqkfehgVY-Kq"
      },
      "source": [
        "## Interactive Renode run\n",
        "\n",
        "Now try running the following cell.  It compiles and simulates the `prof_tflm_tut` project using Renode in headless mode.  When you see `(monitor)`, click below it get a box for text entry and type \\<space\\>\\<enter\\>. You need to hit \"enter\" after each key (unlike running Renode directly on your own computer).  Type the sequence to run one KWS test: 1(enter), 1(enter), 1(enter).  You should see it report that it consumed 47M cycles.\n",
        "\n",
        "\n",
        "* Also while running interactively, check out the \"Benchmarking\" menu option (\"6\" on the top menu).  There are some microbenchmarks for memory accesses - accessing different regions, and with different access patterns.  In Renode, all memory accesses are ideal, so you won't see any difference between the different access patterns.  You can easily add your own microbenchmarks, for example if you have a multi-cycle CFU and wanted to make sure the performance is what you expected.  \n",
        "\n",
        "* **This is tricky: To stop the interactive session**, hit the \"stop\" button (black circle with white square inside), then clear the output, and *then* hit the \"stop\" button again (and again if necessary).   You **must** stop this cell in order to run any other cell.\n"
      ]
    },
    {
      "cell_type": "code",
      "execution_count": null,
      "metadata": {
        "id": "usWt5xFnUwO4"
      },
      "outputs": [],
      "source": [
        "!(source env/conda/bin/activate cfu-common && cd proj/prof_tflm_tut && make TARGET=kosagi_fomu renode-headless)"
      ]
    },
    {
      "cell_type": "markdown",
      "source": [
        "## Automated (non-interactive) Renode run\n",
        "\n",
        "This cell runs Renode using a Robot script -- this is how it would run in CI, or while doing an automated design space exploration.   This assumes we've already run `make renode` or `make renode-headless` or `make renode-scripts` with the target to generate the build/renode/*.resc file.  \n",
        "\n",
        "The second cell below will output the per-TensorFlow-op-type cycle count as well as the total cycle count.  The total is only counting cycles spent inside TF kernels, so it will be a bit less than 47M."
      ],
      "metadata": {
        "id": "XNcO-UdyqeOo"
      }
    },
    {
      "cell_type": "code",
      "source": [
        "!pip install -r /content/CFU-Playground/third_party/renode/tests/requirements.txt\n",
        "!echo \"sysbus.uart CreateFileBackend @/tmp/uart.txt True\" >> proj/prof_tflm_tut/build/renode/kosagi_fomu.resc\n",
        "!uniq proj/prof_tflm_tut/build/renode/kosagi_fomu.resc > u\n",
        "!mv u proj/prof_tflm_tut/build/renode/kosagi_fomu.resc\n",
        "!rm -f /tmp/uart.txt\n",
        "!(cd proj/prof_tflm_tut && ../../third_party/renode/renode-test cfu.robot --variable USER_INPUT:\"1 1 1\" --variable SCRIPT:$PWD/build/renode/kosagi_fomu.resc)"
      ],
      "metadata": {
        "id": "fHeRZSeEqhx_"
      },
      "execution_count": null,
      "outputs": []
    },
    {
      "cell_type": "code",
      "source": [
        "!python3 ./scripts/scanprof.py < /tmp/uart.txt"
      ],
      "metadata": {
        "id": "MuOFQwyPCwVu"
      },
      "execution_count": null,
      "outputs": []
    },
    {
      "cell_type": "markdown",
      "source": [
        "## Profiling Discussion\n",
        "\n",
        "The main use of the cycle counts is to direct our focus of where to optimize, specialized, and eventually add hardware acceleration.  Here, we see that runtime is dominated by CONV_2D, so that is where we should start optimizing.\n",
        "\n",
        "Here in this Colab we are simulating in Renode.  Usually with CFU Playground you are running directly on the FPGA board.  \n",
        "\n",
        "Renode does not model the memory hierarchy, so in that sense it is not accurate -- cache misses and hits both execute with zero latency.   However, we have found this to be a benefit.   Any small code change can change code layout and thus affect which parts of the code start interfering with each other in the cache -- a trivial change can cause a +/-20% change in the cycle count on a real board.   But it is just random noise.   In Renode, the cycle count reflects the number of active compute instructions executed, without the random noise.\n",
        "\n",
        "\n",
        "You might think that running on the board will be much faster than simulation, but that is not always true.   It is likely that your laptop at 2-3GHz can simulate the test case here faster than it would actually run on Fomu at 12MHz.\n",
        "\n",
        "In this example, we got the following cycle counts:\n",
        "\n",
        "Renode: 47M original, 41M specialized (-13%)\n",
        "\n",
        "On Fomu: 766M original, 614M specialized (-20%)\n"
      ],
      "metadata": {
        "id": "HdJKdG_QnOz-"
      }
    },
    {
      "cell_type": "markdown",
      "source": [
        "## TFLM Software Specialization\n",
        "\n",
        "We see that more than 75% of the execution time is spent in the conv2d op type, from 5 different layers.   Further, experients show that many of the parameters are the same for 4 of those layers.    We can create a specialized version of the conv2d kernel in which these values are treated as constants:\n",
        "\n",
        "```\n",
        "// SPECIALIZED FOR KWS:\n",
        "//   filter_height == 1\n",
        "//   filter_width == 1\n",
        "//   input_offset == 128\n",
        "//   output_offset == -128\n",
        "//   pad_height == 0\n",
        "//   pad_width == 0\n",
        "//   stride_height == 1\n",
        "//   stride_width == 1\n",
        "//   batches == 1\n",
        "//   groups == 1\n",
        "```\n",
        "\n",
        "*   Navigate to `/content/CFU-Playground/proj/prof_tflm_tut/src/tensorflow/lite/kernels/internal/reference/integer_ops`.   These are files particular to this project that will overlay the original TFLM files.\n",
        "\n",
        "* When the parameters match the values above, the code in `conv.h` invokes the specialized version in `kws_conv.h`; otherwise it executes the original general version.\n",
        "\n",
        "* We have modified conv.h to dispatch to the *specialized* version in `kws_conv.h`, but we have not yet performed the specialization.  Open `kws_conv.h` by double-clicking it, and using the known values of many parameters, do some code simplifications yourself.  Or, use the version that we have already optimized: remove `kws_conv.h` and replace it by renaming `kws_conv.h-opt` to take its place. \n",
        "\n",
        "\n",
        "* After any modifications, just rerun the \"Interactive Renode run\" cell above.   The recompilation should go very fast.  If you execute the same 1-1-1 sequence in the menu, hopefully you'll see a reduced cycle count."
      ],
      "metadata": {
        "id": "dek-6diNgq-_"
      }
    },
    {
      "cell_type": "markdown",
      "metadata": {
        "id": "ZTnez2UDY5xx"
      },
      "source": [
        "## Optional\n",
        "\n",
        "Build a bitstream for Fomu to make sure everything works.   Uncomment the lines below and run the cell."
      ]
    },
    {
      "cell_type": "code",
      "execution_count": null,
      "metadata": {
        "id": "EB6zYIGrSSyq"
      },
      "outputs": [],
      "source": [
        "# !rm -rf third_party/usr\n",
        "# !(source env/conda/bin/activate cfu-common && cd proj/prof_tflm_tut && make TARGET=kosagi_fomu clean bitstream)"
      ]
    },
    {
      "cell_type": "markdown",
      "source": [
        "# To do this example on your machine directly"
      ],
      "metadata": {
        "id": "OdU_-xellDuY"
      }
    },
    {
      "cell_type": "markdown",
      "source": [
        "\n",
        "### In all cases:\n",
        "\n",
        "* Type the commands in the first 3 cells, without the leading `!` or `%`.  The last command will be \"`make env`\".\n",
        "* `make enter` --- to enter the Conda environment.   It starts a new shell.  To exit the environment, just exit the shell with \"`exit`\".\n",
        "* `cd proj/prof_tflm_tut` --- (usually when using CFU Playground, you are in a project directory like this).\n",
        "\n",
        "### To run in Renode:\n",
        "* `make TARGET=kosagi_fomu renode` --- Unlike how it works in the Colab, this runs Renode with the GUI.  Two new windows will pop up -- one for the \"monitor\", and one for the UART.   Type commands into the UART (no \\<enter\\> required), and type \"`quit`\" in the monitor window to exit.\n",
        "\n",
        "### To run on Fomu directly:\n",
        "* Power cycle Fomu so that it is in \"boot\" mode.  The LED should be cyan-colored, fading bright to dark.\n",
        "* `make TARGET=kosagi_fomu clean`\n",
        "* `make TARGET=kosagi_fomu bitstream`\n",
        "* `make TARGET=kosagi_fomu TTY=/dev/ttyACM0 load`\n",
        "* Those commands do the following: clean previous build artifacts; build the FPGA bitstream; then compile the software, flash bitstream+software to Fomu, and connect to it via a terminal program.\n",
        "* To disconnect from Fomu, hit ctrl-C two or three times\n",
        "* To incrementally compile and reload after modifying any software under ./src, just type the last command (`make TARGET=kosagi_fomu TTY=/dev/ttyACM0 load`) again."
      ],
      "metadata": {
        "id": "_b_3Uck-4Fii"
      }
    },
    {
      "cell_type": "markdown",
      "source": [
        "# Run the KWS (keyword spotting) example CFU\n",
        "\n"
      ],
      "metadata": {
        "id": "5oTxuZ0WalPU"
      }
    },
    {
      "cell_type": "markdown",
      "source": [
        "\n",
        "Now let's run the KWS example with all of the optimizations (moving hot data and code to the fast SRAM, etc)....EXCEPT for the CFU acceleration.   In fact, we will build the bitstream with the CFU, but we won't use it from software, so it won't help us...although it won't hurt us either, at least in terms of cycle count."
      ],
      "metadata": {
        "id": "FNyulNeib5P9"
      }
    },
    {
      "cell_type": "code",
      "source": [
        "%cd /content/CFU-Playground/\n",
        "!rm -rf third_party/usr\n",
        "!(source env/conda/bin/activate cfu-common && cd proj/kws_micro_accel && make TARGET=kosagi_fomu renode-headless)"
      ],
      "metadata": {
        "id": "HNnYZOQPa4ry"
      },
      "execution_count": null,
      "outputs": []
    },
    {
      "cell_type": "markdown",
      "source": [
        "How many cycles for one inference?\n",
        "\n",
        "Ok, let's now enable the CFU.   Open `/content/CFU-Playground/proj/kws_micro_accel/Makefile` for editing by clicking the link.  Uncomment the two lines:\n",
        "```\n",
        "#DEFINES += OPT_ACCEL_CONV\n",
        "#DEFINES += OPT_ACCEL_DEPTHWISE_CONV\n",
        "```\n",
        "Then run the cell below."
      ],
      "metadata": {
        "id": "6ndjDo0pcJFV"
      }
    },
    {
      "cell_type": "code",
      "source": [
        "!(source env/conda/bin/activate cfu-common && cd proj/kws_micro_accel && make TARGET=kosagi_fomu renode-headless)"
      ],
      "metadata": {
        "id": "cfUo0v24c3y2"
      },
      "execution_count": null,
      "outputs": []
    }
  ],
  "metadata": {
    "colab": {
      "collapsed_sections": [
        "ZTnez2UDY5xx",
        "OdU_-xellDuY",
        "5oTxuZ0WalPU"
      ],
      "name": "CFUPlay-prof-tflm.ipynb",
      "provenance": [],
      "include_colab_link": true
    },
    "kernelspec": {
      "display_name": "Python 3",
      "name": "python3"
    },
    "language_info": {
      "name": "python"
    }
  },
  "nbformat": 4,
  "nbformat_minor": 0
}