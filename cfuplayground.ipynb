{
 "cells": [
  {
   "cell_type": "markdown",
   "id": "cc0e02ee-bba3-4542-8454-116507df2ac4",
   "metadata": {},
   "source": [
    "# CFU Playground"
   ]
  },
  {
   "cell_type": "markdown",
   "id": "6a7e1efc-2f52-4f49-a458-42d0c5126bdf",
   "metadata": {},
   "source": [
    "### Design Space Exploration"
   ]
  },
  {
   "cell_type": "code",
   "execution_count": 1,
   "id": "e5969265-5d81-4c70-a87c-a05356e70f23",
   "metadata": {
    "tags": [
     "parameters"
    ]
   },
   "outputs": [],
   "source": [
    "# Vexriscv soft core parameters available for tuning\n",
    "bypass            = True\n",
    "cfu               = True\n",
    "dCacheSize        = 2048\n",
    "hardwareDiv       = True\n",
    "iCacheSize        = 1024\n",
    "mulDiv            = True\n",
    "prediction        = \"none\"\n",
    "safe              = True\n",
    "singleCycleShift  = True\n",
    "singleCycleMulDiv = True"
   ]
  },
  {
   "cell_type": "code",
   "execution_count": 2,
   "id": "90452c89-d011-4a09-99d1-4ff5292b102b",
   "metadata": {},
   "outputs": [],
   "source": [
    "# Constants \n",
    "CSR_PLUGIN_CONFIG = \"mcycle\"\n",
    "TARGET            = \"digilent_arty\""
   ]
  },
  {
   "cell_type": "code",
   "execution_count": null,
   "id": "a2971ad2-d2fc-4fa9-ae73-881a4acd9a3c",
   "metadata": {},
   "outputs": [],
   "source": [
    "# Change directory to design space exploration project in CFU-Playground\n",
    "%cd /CFU-Playground/proj/dse_template"
   ]
  },
  {
   "cell_type": "code",
   "execution_count": null,
   "id": "a1c98a4f-50a5-4385-91f1-75e95c668af9",
   "metadata": {
    "scrolled": true,
    "tags": []
   },
   "outputs": [],
   "source": [
    "import dse_framework\n",
    "\n",
    "dse_framework.dse(CSR_PLUGIN_CONFIG, bypass, cfu, dCacheSize, hardwareDiv, iCacheSize, mulDiv, prediction, safe, singleCycleShift, singleCycleMulDiv)"
   ]
  },
  {
   "cell_type": "code",
   "execution_count": null,
   "id": "415e1438-0b33-4776-b581-6a718c6ec8f3",
   "metadata": {
    "scrolled": true,
    "tags": []
   },
   "outputs": [],
   "source": [
    "# Obtain metrics and glue to notebook for later use\n",
    "import scrapbook as sb\n",
    "\n",
    "cycles = dse_framework.get_cycle_count()\n",
    "cells  = dse_framework.get_resource_util(TARGET)\n",
    "\n",
    "sb.glue('cells', cells)\n",
    "sb.glue('cycles', cycles)\n",
    "\n",
    "print(\"Cycle Count: \" + str(cycles))\n",
    "print(\"Cells Used:  \" + str (cells))"
   ]
  },
  {
   "cell_type": "code",
   "execution_count": 14,
   "id": "91d1adc4-0a99-4d94-9006-cfa89f048e2e",
   "metadata": {},
   "outputs": [
    {
     "name": "stdout",
     "output_type": "stream",
     "text": [
      "Reporting Metric: Cells^2 + Cycles 704233260.0\n"
     ]
    }
   ],
   "source": [
    "import hypertune\n",
    "\n",
    "print('Reporting Metric:', 'Cells^2 + Cycles',   (cells*cells) + cycles)\n",
    "hpt = hypertune.HyperTune()\n",
    "hpt.report_hyperparameter_tuning_metric(\n",
    "    hyperparameter_metric_tag='cells+cycles',\n",
    "    metric_value=((cells*cells) + cycles),\n",
    ")"
   ]
  }
 ],
 "metadata": {
  "kernelspec": {
   "display_name": "Python 3 (ipykernel)",
   "language": "python",
   "name": "python3"
  },
  "language_info": {
   "codemirror_mode": {
    "name": "ipython",
    "version": 3
   },
   "file_extension": ".py",
   "mimetype": "text/x-python",
   "name": "python",
   "nbconvert_exporter": "python",
   "pygments_lexer": "ipython3",
   "version": "3.7.13"
  }
 },
 "nbformat": 4,
 "nbformat_minor": 5
}
