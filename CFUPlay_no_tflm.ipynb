{
  "cells": [
    {
      "cell_type": "markdown",
      "metadata": {
        "id": "view-in-github",
        "colab_type": "text"
      },
      "source": [
        "<a href=\"https://colab.research.google.com/github/tcal-x/CFU-Playground/blob/first-prof-tflm/CFUPlay_no_tflm.ipynb\" target=\"_parent\"><img src=\"https://colab.research.google.com/assets/colab-badge.svg\" alt=\"Open In Colab\"/></a>"
      ]
    },
    {
      "cell_type": "markdown",
      "source": [
        "# CFU playground *without* TFLite-Micro\n",
        "\n",
        "Estimated run time: 7 minutes"
      ],
      "metadata": {
        "id": "thMU9jgzeeHH"
      }
    },
    {
      "cell_type": "markdown",
      "metadata": {
        "id": "h9O8XajEPYZg"
      },
      "source": [
        "Clone CFU-Playground"
      ]
    },
    {
      "cell_type": "code",
      "execution_count": null,
      "metadata": {
        "id": "qGnilGRhO35o"
      },
      "outputs": [],
      "source": [
        "!git clone https://github.com/google/CFU-Playground.git\n"
      ]
    },
    {
      "cell_type": "markdown",
      "metadata": {
        "id": "3RGdTa3WYrNo"
      },
      "source": [
        "Setup including getting the submodules.\n"
      ]
    },
    {
      "cell_type": "code",
      "execution_count": null,
      "metadata": {
        "id": "IxVLE50nP4B1"
      },
      "outputs": [],
      "source": [
        "%cd CFU-Playground\n",
        "!./scripts/setup -ci\n",
        "!rm -rf third_party/usr\n",
        "!cd /content/CFU-Playground\n",
        "!git checkout first-prof-tflm"
      ]
    },
    {
      "cell_type": "markdown",
      "metadata": {
        "id": "e7unlPY7PXGS"
      },
      "source": [
        "Get tools using Conda."
      ]
    },
    {
      "cell_type": "code",
      "execution_count": null,
      "metadata": {
        "id": "7CD1odYtQ8Ja"
      },
      "outputs": [],
      "source": [
        "if True:\n",
        "  %cd /content/CFU-Playground\n",
        "  !rm -rf env/\n",
        "  !make env"
      ]
    },
    {
      "cell_type": "markdown",
      "source": [
        "## Simulate the software running on the CPU + your CFU, using Renode\n",
        "\n",
        "* When you see \"(monitor)\", it's ready.  \n",
        "\n",
        "* Click until you see an input rectangle, then hit space/enter until you get the menu.\n",
        "\n",
        "* Try 3 (project menu) --> \"g\" or \"G\" to see a grid of CFU outputs from different operands\n",
        "\n",
        "* **To stop**, alternate hitting the \"stop\" button (with the square icon) and the \"clear output\" button below it."
      ],
      "metadata": {
        "id": "fVTjsI7LYiwL"
      }
    },
    {
      "cell_type": "code",
      "execution_count": null,
      "metadata": {
        "id": "IKi69oc-Ya9v"
      },
      "outputs": [],
      "source": [
        "%cd /content/CFU-Playground\n",
        "!(source env/conda/bin/activate cfu-common && cd /content/CFU-Playground/proj/skip_tflm && make ENABLE_TRACE_ARG=--trace VERILATOR_TRACE_DEPTH=1 VERILATOR_TRACE_PATH=/tmp/vtrace.vcd renode-headless)"
      ]
    },
    {
      "cell_type": "markdown",
      "source": [
        "## Run the following to display a trace:"
      ],
      "metadata": {
        "id": "AuzKdFhstHnr"
      }
    },
    {
      "cell_type": "code",
      "source": [
        "!wget -O vcd2txt https://github.com/yne/vcd/releases/download/220327/vcd-ubuntu-latest-gcc\n",
        "!chmod 755 vcd2txt\n",
        "!./vcd2txt < /tmp/vtrace.vcd"
      ],
      "metadata": {
        "id": "rxarXcG2zENH"
      },
      "execution_count": null,
      "outputs": []
    },
    {
      "cell_type": "markdown",
      "source": [
        "## Further activities\n",
        "\n",
        "*  Modify the CFU!  \n",
        "\n",
        "  * Open  `/content/CFU-Playground/proj/skip_tflm/cfu.v`\n",
        "  * Edit it in the window to the right (it auto-saves) to change the computation.   \n",
        "  * Edit `/content/CFU-Playground/proj/skip_tflm/src/software_cfu.cc` to match\n",
        "  * **rerun** code cell \"9\" above."
      ],
      "metadata": {
        "id": "RKf9OdO1BzLd"
      }
    },
    {
      "cell_type": "markdown",
      "source": [
        "# To run locally"
      ],
      "metadata": {
        "id": "4Pq7f5eNO1rY"
      }
    },
    {
      "cell_type": "markdown",
      "source": [
        "After doing the cloning and setup steps, and `make env`, then to run on a Fomu board for example:\n",
        "* `make enter`\n",
        "* `cd proj/skip_tflm`\n",
        "* `make TARGET=kosagi_fomu bitstream`\n",
        "* `make TARGET=kosagi_fomu TTY=/dev/ttyACM0 load`\n",
        "\n",
        "Or to run in Renode:\n",
        "\n",
        "* `make enter`\n",
        "* `cd proj/skip_tflm`\n",
        "* `make TARGET=kosagi_fomu renode`\n",
        "\n",
        "...or to capture a trace, do this in place of the last line:\n",
        "* `make TARGET=kosagi_fomu ENABLE_TRACE_ARG=--trace VERILATOR_TRACE_DEPTH=1 VERILATOR_TRACE_PATH=/tmp/vtrace.vcd renode`"
      ],
      "metadata": {
        "id": "KFxawFUqO5D2"
      }
    }
  ],
  "metadata": {
    "colab": {
      "collapsed_sections": [],
      "name": "CFUPlay-no-tflm.ipynb",
      "provenance": [],
      "include_colab_link": true
    },
    "kernelspec": {
      "display_name": "Python 3",
      "name": "python3"
    },
    "language_info": {
      "name": "python"
    }
  },
  "nbformat": 4,
  "nbformat_minor": 0
}